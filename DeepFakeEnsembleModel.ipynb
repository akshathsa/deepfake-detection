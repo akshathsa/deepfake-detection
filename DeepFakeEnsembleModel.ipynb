{
  "cells": [
    {
      "cell_type": "code",
      "execution_count": 1,
      "metadata": {
        "colab": {
          "base_uri": "https://localhost:8080/"
        },
        "id": "lLUgXEAnWgQ_",
        "outputId": "4345f1a2-bb78-4b9e-db9f-cbdb684ed557"
      },
      "outputs": [],
      "source": [
        "# Mount google drive\n",
        "\n",
        "import json\n",
        "import os\n",
        "\n",
        "os.chdir(\"dfdc_train_part_45\")\n",
        "\n"
      ]
    },
    {
      "cell_type": "code",
      "execution_count": 2,
      "metadata": {
        "colab": {
          "base_uri": "https://localhost:8080/"
        },
        "id": "NnPRUZo-Wr0V",
        "outputId": "dc9ae312-83ef-4ce2-cbf1-31b54e06aa9c"
      },
      "outputs": [
        {
          "name": "stdout",
          "output_type": "stream",
          "text": [
            "200 200\n"
          ]
        }
      ],
      "source": [
        "# Filter data into real and fake\n",
        "\n",
        "f = open('metadata.json', \"r\")\n",
        "\n",
        "metadata = json.loads(f.read())\n",
        "metadata = metadata\n",
        "fakes = []\n",
        "reals = []\n",
        "for each in metadata.keys():\n",
        "  if metadata[each][\"label\"] == \"FAKE\":\n",
        "    fakes.append(each)\n",
        "  else:\n",
        "    reals.append(each)\n",
        "fakes = fakes[:200]\n",
        "reals = reals[:200]\n",
        "print(len(fakes), len(reals))"
      ]
    },
    {
      "cell_type": "code",
      "execution_count": 3,
      "metadata": {
        "id": "IU0BDraJby_Q"
      },
      "outputs": [
        {
          "name": "stdout",
          "output_type": "stream",
          "text": [
            "WARNING:tensorflow:From c:\\miniforge3\\envs\\ml_project\\Lib\\site-packages\\keras\\src\\losses.py:2976: The name tf.losses.sparse_softmax_cross_entropy is deprecated. Please use tf.compat.v1.losses.sparse_softmax_cross_entropy instead.\n",
            "\n"
          ]
        }
      ],
      "source": [
        "import cv2\n",
        "import tensorflow"
      ]
    },
    {
      "cell_type": "code",
      "execution_count": 4,
      "metadata": {
        "colab": {
          "background_save": true
        },
        "id": "-78BJkYGc9ZT"
      },
      "outputs": [],
      "source": [
        "def extract_frames(video_path, frame_rate):\n",
        "    video = cv2.VideoCapture(video_path)\n",
        "    fps = video.get(cv2.CAP_PROP_FPS)\n",
        "    framesInterval = int(fps * frame_rate)\n",
        "    count = 0\n",
        "    frames = []\n",
        "    while video.isOpened():\n",
        "        ret, frame = video.read()\n",
        "        if not ret:\n",
        "            break\n",
        "        if count % framesInterval == 0:\n",
        "            frames.append(frame)\n",
        "        count += 1\n",
        "    video.release()\n",
        "    return frames\n",
        "\n",
        "realFrames = {}\n",
        "fakeFrames = {}\n",
        "for each in reals:\n",
        "  realFrames[each] = extract_frames(each, 7)\n",
        "\n",
        "\n",
        "for each in fakes:\n",
        "  fakeFrames[each] = extract_frames(each, 7)\n"
      ]
    },
    {
      "cell_type": "code",
      "execution_count": 5,
      "metadata": {
        "colab": {
          "background_save": true
        },
        "id": "L8TK_5e4UhvI"
      },
      "outputs": [],
      "source": [
        "import numpy as np\n",
        "\n",
        "def frames_to_dataset(frames_dict, label):\n",
        "    X = []\n",
        "    y = []\n",
        "    for video_path, frames in frames_dict.items():\n",
        "        for frame in frames:\n",
        "            frame_resized = cv2.resize(frame, (299, 299))\n",
        "            X.append(frame_resized)\n",
        "            y.append(label)\n",
        "    return np.array(X), np.array(y)\n",
        "\n",
        "X_real, y_real = frames_to_dataset(realFrames, 0)\n",
        "X_fake, y_fake = frames_to_dataset(fakeFrames, 1)\n",
        "\n",
        "X_train = np.concatenate((X_real, X_fake), axis=0)\n",
        "y_train = np.concatenate((y_real, y_fake), axis=0)\n",
        "\n",
        "X_train = X_train.astype('float32') / 255.0\n"
      ]
    },
    {
      "cell_type": "code",
      "execution_count": 6,
      "metadata": {
        "colab": {
          "background_save": true
        },
        "id": "Oi7lRkT4UrJj"
      },
      "outputs": [],
      "source": [
        "from sklearn.utils import shuffle\n",
        "\n",
        "X_train, y_train = shuffle(X_train, y_train, random_state=0)\n",
        "\n",
        "from sklearn.model_selection import train_test_split\n",
        "\n",
        "X_train, X_val, y_train, y_val = train_test_split(X_train, y_train, test_size=0.2, random_state=42)\n"
      ]
    },
    {
      "cell_type": "code",
      "execution_count": 7,
      "metadata": {
        "colab": {
          "background_save": true
        },
        "id": "4IPomkA8Ibri",
        "outputId": "4381778e-278c-4cb7-c92e-2c31533cc313"
      },
      "outputs": [
        {
          "name": "stdout",
          "output_type": "stream",
          "text": [
            "WARNING:tensorflow:From c:\\miniforge3\\envs\\ml_project\\Lib\\site-packages\\keras\\src\\backend.py:1398: The name tf.executing_eagerly_outside_functions is deprecated. Please use tf.compat.v1.executing_eagerly_outside_functions instead.\n",
            "\n",
            "WARNING:tensorflow:From c:\\miniforge3\\envs\\ml_project\\Lib\\site-packages\\keras\\src\\layers\\normalization\\batch_normalization.py:979: The name tf.nn.fused_batch_norm is deprecated. Please use tf.compat.v1.nn.fused_batch_norm instead.\n",
            "\n",
            "Downloading data from https://storage.googleapis.com/tensorflow/keras-applications/inception_resnet_v2/inception_resnet_v2_weights_tf_dim_ordering_tf_kernels_notop.h5\n",
            "219055592/219055592 [==============================] - 3s 0us/step\n",
            "WARNING:tensorflow:From c:\\miniforge3\\envs\\ml_project\\Lib\\site-packages\\keras\\src\\optimizers\\__init__.py:309: The name tf.train.Optimizer is deprecated. Please use tf.compat.v1.train.Optimizer instead.\n",
            "\n",
            "done\n"
          ]
        }
      ],
      "source": [
        "from tensorflow.keras.applications import InceptionResNetV2\n",
        "from tensorflow.keras.layers import GlobalAveragePooling2D, Dense, Dropout\n",
        "from tensorflow.keras.models import Model\n",
        "from tensorflow.keras import optimizers\n",
        "\n",
        "\n",
        "base_model = InceptionResNetV2(weights='imagenet', include_top=False, input_shape=(299, 299, 3))\n",
        "for layer in base_model.layers:\n",
        "  layer.trainable = False\n",
        "\n",
        "x = base_model.output\n",
        "x = GlobalAveragePooling2D()(x)\n",
        "x = Dense(1024, activation='relu')(x)\n",
        "x = Dropout(0.5)(x)\n",
        "predictions = Dense(1, activation='sigmoid')(x)\n",
        "\n",
        "model = Model(inputs=base_model.input, outputs=predictions)\n",
        "\n",
        "model.compile(optimizer='adam',\n",
        "              loss='binary_crossentropy',\n",
        "              metrics=['accuracy'])\n",
        "\n",
        "print(\"done\")"
      ]
    },
    {
      "cell_type": "code",
      "execution_count": 8,
      "metadata": {
        "colab": {
          "background_save": true
        },
        "id": "R49N7qJO7Zd1"
      },
      "outputs": [],
      "source": [
        "# print(X_val,\"DFSF\")\n",
        "# print(y_val, \"fdasf\")"
      ]
    },
    {
      "cell_type": "code",
      "execution_count": 9,
      "metadata": {
        "colab": {
          "background_save": true
        },
        "id": "wUnbMgS2WKq-",
        "outputId": "2c13ca42-8c60-48df-fbc2-a180279e70b1"
      },
      "outputs": [
        {
          "name": "stdout",
          "output_type": "stream",
          "text": [
            "Epoch 1/10\n",
            "WARNING:tensorflow:From c:\\miniforge3\\envs\\ml_project\\Lib\\site-packages\\keras\\src\\utils\\tf_utils.py:492: The name tf.ragged.RaggedTensorValue is deprecated. Please use tf.compat.v1.ragged.RaggedTensorValue instead.\n",
            "\n",
            "WARNING:tensorflow:From c:\\miniforge3\\envs\\ml_project\\Lib\\site-packages\\keras\\src\\engine\\base_layer_utils.py:384: The name tf.executing_eagerly_outside_functions is deprecated. Please use tf.compat.v1.executing_eagerly_outside_functions instead.\n",
            "\n",
            "32/32 [==============================] - ETA: 0s - loss: 0.8436 - accuracy: 0.7094WARNING:tensorflow:Your input ran out of data; interrupting training. Make sure that your dataset or generator can generate at least `steps_per_epoch * epochs` batches (in this case, 8 batches). You may need to use the repeat() function when building your dataset.\n",
            "32/32 [==============================] - 45s 1s/step - loss: 0.8436 - accuracy: 0.7094 - val_loss: 0.4766 - val_accuracy: 0.8125\n",
            "Epoch 2/10\n",
            "32/32 [==============================] - 30s 919ms/step - loss: 0.4746 - accuracy: 0.7750\n",
            "Epoch 3/10\n",
            "32/32 [==============================] - 29s 911ms/step - loss: 0.4730 - accuracy: 0.7625\n",
            "Epoch 4/10\n",
            "32/32 [==============================] - 30s 915ms/step - loss: 0.4383 - accuracy: 0.8000\n",
            "Epoch 5/10\n",
            "32/32 [==============================] - 29s 913ms/step - loss: 0.4599 - accuracy: 0.7797\n",
            "Epoch 6/10\n",
            "32/32 [==============================] - 30s 915ms/step - loss: 0.4159 - accuracy: 0.7828\n",
            "Epoch 7/10\n",
            "32/32 [==============================] - 30s 915ms/step - loss: 0.4420 - accuracy: 0.7875\n",
            "Epoch 8/10\n",
            "32/32 [==============================] - 30s 942ms/step - loss: 0.4062 - accuracy: 0.8109\n",
            "Epoch 9/10\n",
            "32/32 [==============================] - 31s 951ms/step - loss: 0.4128 - accuracy: 0.8172\n",
            "Epoch 10/10\n",
            "32/32 [==============================] - 31s 959ms/step - loss: 0.4218 - accuracy: 0.8094\n"
          ]
        }
      ],
      "source": [
        "from tensorflow.keras.preprocessing.image import ImageDataGenerator\n",
        "from tensorflow.keras.utils import to_categorical\n",
        "\n",
        "\n",
        "train_datagen = ImageDataGenerator(\n",
        "    shear_range=0.2,\n",
        "    zoom_range=0.2,\n",
        "    horizontal_flip=True)\n",
        "\n",
        "validation_datagen = ImageDataGenerator()\n",
        "\n",
        "train_generator = train_datagen.flow(\n",
        "    X_train, y_train,\n",
        "    batch_size=20\n",
        ")\n",
        "\n",
        "\n",
        "validation_generator = validation_datagen.flow(X_val, y_val, batch_size=32)\n",
        "\n",
        "\n",
        "history = model.fit(\n",
        "    train_generator,\n",
        "    steps_per_epoch = max(1, len(X_train) // 20),\n",
        "    epochs=10,\n",
        "    validation_data= validation_generator,\n",
        "    validation_steps = max(1, len(X_val) // 20)\n",
        ")\n"
      ]
    },
    {
      "cell_type": "code",
      "execution_count": 10,
      "metadata": {
        "id": "0c6KZrPE4rs9"
      },
      "outputs": [
        {
          "name": "stdout",
          "output_type": "stream",
          "text": [
            "8/8 [==============================] - 7s 914ms/step - loss: 0.3959 - accuracy: 0.8375\n",
            "Test Loss: 0.3959498703479767\n",
            "Test Accuracy: 0.8374999761581421\n",
            "8/8 [==============================] - 10s 927ms/step\n"
          ]
        },
        {
          "name": "stderr",
          "output_type": "stream",
          "text": [
            "c:\\miniforge3\\envs\\ml_project\\Lib\\site-packages\\keras\\src\\engine\\training.py:3103: UserWarning: You are saving your model as an HDF5 file via `model.save()`. This file format is considered legacy. We recommend using instead the native Keras format, e.g. `model.save('my_model.keras')`.\n",
            "  saving_api.save_model(\n"
          ]
        }
      ],
      "source": [
        "\n",
        "# Evaluate the model on test data\n",
        "test_loss, test_accuracy = model.evaluate(X_val, y_val, batch_size=20)  # Adjust batch size if necessary\n",
        "print(f\"Test Loss: {test_loss}\")\n",
        "print(f\"Test Accuracy: {test_accuracy}\")\n",
        "\n",
        "# Optional: Predict on test data\n",
        "predictions = model.predict(X_val, batch_size=20)\n",
        "predictions = [1 if x > 0.5 else 0 for x in predictions.ravel()]\n",
        "model.save('inceptionResNet.h5')\n"
      ]
    },
    {
      "cell_type": "code",
      "execution_count": 11,
      "metadata": {
        "id": "VLT89hfz7WyC"
      },
      "outputs": [],
      "source": [
        "\n",
        "# from google.colab.patches import cv2_imshow\n",
        "\n",
        "# def visualize_predictions(frames, predictions):\n",
        "#     for i, frame in enumerate(frames):\n",
        "#         prediction = predictions[i]\n",
        "#         label = \"FAKE\" if prediction > 0.5 else \"REAL\"\n",
        "#         confidence = f\"{(prediction if label == 'FAKE' else 1 - prediction) * 100:.2f}%\"\n",
        "\n",
        "\n",
        "#         vis_frame = frame.copy()\n",
        "#         cv2.putText(vis_frame, f\"{label}\", (10, 30),\n",
        "#                     cv2.FONT_HERSHEY_SIMPLEX, 1, (0, 255, 0) if label == \"REAL\" else (0, 0, 255), 2)\n",
        "\n",
        "\n",
        "#         cv2_imshow(vis_frame)\n",
        "#         break\n",
        "\n",
        "# predictions = model.predict(X_val, batch_size=32).ravel()\n",
        "# X_test_vis = (X_val * 255).astype('uint8')\n",
        "# visualize_predictions(X_test_vis, predictions)"
      ]
    },
    {
      "cell_type": "code",
      "execution_count": 16,
      "metadata": {
        "id": "U_Us1pwzfMo8"
      },
      "outputs": [],
      "source": [
        "import matplotlib.pyplot as plt\n",
        "import seaborn as sns\n",
        "from sklearn.metrics import confusion_matrix"
      ]
    },
    {
      "cell_type": "code",
      "execution_count": 17,
      "metadata": {
        "id": "RORjnwhtfO4M"
      },
      "outputs": [
        {
          "data": {
            "image/png": "[encoded data removed]",
            "text/plain": [
              "<Figure size 640x480 with 1 Axes>"
            ]
          },
          "metadata": {},
          "output_type": "display_data"
        }
      ],
      "source": [
        "plt.plot(history.history['loss'], label='Training loss')\n",
        "plt.plot(history.history['val_loss'], label='Validation loss')\n",
        "plt.title('Training and Validation Loss')\n",
        "plt.ylabel('Loss')\n",
        "plt.xlabel('Epoch')\n",
        "plt.legend()\n",
        "plt.show()"
      ]
    },
    {
      "cell_type": "code",
      "execution_count": 18,
      "metadata": {
        "id": "4e30E_C7fREM"
      },
      "outputs": [
        {
          "name": "stdout",
          "output_type": "stream",
          "text": [
            "5/5 [==============================] - 10s 2s/step\n"
          ]
        },
        {
          "data": {
            "image/png": "[encoded data removed]",
            "text/plain": [
              "<Figure size 700x500 with 2 Axes>"
            ]
          },
          "metadata": {},
          "output_type": "display_data"
        }
      ],
      "source": [
        "\n",
        "y_pred = (model.predict(X_val) > 0.5).astype(\"int32\")\n",
        "\n",
        "cm = confusion_matrix(y_val, y_pred)\n",
        "\n",
        "plt.figure(figsize=(7,5))\n",
        "sns.heatmap(cm, annot=True, fmt=\"d\", cmap=\"Blues\", xticklabels=[\"Real\", \"Fake\"], yticklabels=[\"Real\", \"Fake\"])\n",
        "plt.title('Confusion Matrix')\n",
        "plt.ylabel('Actual')\n",
        "plt.xlabel('Predicted')\n",
        "plt.show()"
      ]
    },
    {
      "cell_type": "code",
      "execution_count": 19,
      "metadata": {
        "id": "JISkSEcDRwEO"
      },
      "outputs": [],
      "source": [
        "# # model.save(\"incresnetFinal.h5\")\n",
        "# import numpy as np\n",
        "\n",
        "# def frames_to_dataset(frames_dict, label):\n",
        "#     X = []\n",
        "#     y = []\n",
        "#     for video_path, frames in frames_dict.items():\n",
        "#         for frame in frames:\n",
        "#             frame_resized = cv2.resize(frame, (299, 299))\n",
        "#             X.append(frame_resized)\n",
        "#             y.append(label)\n",
        "#     return np.array(X), np.array(y)\n",
        "\n",
        "# X_real, y_real = frames_to_dataset(realFrames, 0)\n",
        "# X_fake, y_fake = frames_to_dataset(fakeFrames, 1)\n",
        "\n",
        "# X_train = np.concatenate((X_real, X_fake), axis=0)\n",
        "# y_train = np.concatenate((y_real, y_fake), axis=0)\n",
        "\n",
        "# X_train = X_train.astype('float32') / 255.0"
      ]
    },
    {
      "cell_type": "code",
      "execution_count": 20,
      "metadata": {
        "id": "wEx9RgzKSPNr"
      },
      "outputs": [],
      "source": [
        "# from sklearn.utils import shuffle\n",
        "\n",
        "# X_train, y_train = shuffle(X_train, y_train, random_state=0)\n",
        "\n",
        "# from sklearn.model_selection import train_test_split\n",
        "\n",
        "# X_train, X_val, y_train, y_val = train_test_split(X_train, y_train, test_size=0.2, random_state=42)\n"
      ]
    },
    {
      "cell_type": "code",
      "execution_count": 21,
      "metadata": {
        "id": "gSqwOngxSP_p"
      },
      "outputs": [],
      "source": [
        "# import tensorflow as tf\n",
        "# from tensorflow.keras.applications import DenseNet121\n",
        "# from tensorflow.keras.layers import Dense, GlobalAveragePooling2D, Dropout\n",
        "# from tensorflow.keras.models import Model\n",
        "# from tensorflow.keras.optimizers import Adam\n",
        "\n",
        "# Dense_base_model = DenseNet121(weights='imagenet', include_top=False, input_shape=(224, 224, 3))\n",
        "# x = Dense_base_model.output\n",
        "# x = GlobalAveragePooling2D()(x)\n",
        "# x = Dense(512, activation='relu')(x)\n",
        "# x = Dropout(0.5)(x)\n",
        "# predictions = Dense(1, activation='sigmoid')(x)\n",
        "# model2 = Model(inputs=Dense_base_model.input, outputs=predictions)\n",
        "# model2.compile(optimizer=Adam(), loss='binary_crossentropy', metrics=['accuracy'])\n"
      ]
    },
    {
      "cell_type": "code",
      "execution_count": 22,
      "metadata": {
        "id": "jNlsK--KSXpu"
      },
      "outputs": [],
      "source": [
        "# from tensorflow.keras.preprocessing.image import ImageDataGenerator\n",
        "\n",
        "# train_datagen2 = ImageDataGenerator(\n",
        "#     shear_range=0.2,\n",
        "#     zoom_range=0.2,\n",
        "#     horizontal_flip=True)\n",
        "\n",
        "# validation_datagen2 = ImageDataGenerator()\n",
        "\n",
        "# train_generator2 = train_datagen2.flow(\n",
        "#     X_train, y_train,\n",
        "#     batch_size=20\n",
        "# )\n",
        "\n",
        "\n",
        "# validation_generator2 = validation_datagen2.flow(X_val, y_val, batch_size=32)\n",
        "\n",
        "\n",
        "# history = model2.fit(\n",
        "#     train_generator2,\n",
        "#     steps_per_epoch = max(1, len(X_train) // 20),\n",
        "#     epochs=10,\n",
        "#     validation_data=validation_generator2,\n",
        "#     validation_steps = max(1, len(X_val) // 20)\n",
        "# )\n"
      ]
    },
    {
      "cell_type": "code",
      "execution_count": 23,
      "metadata": {
        "id": "IaejC0EGl2Pt"
      },
      "outputs": [],
      "source": [
        "# print(\"done\")"
      ]
    },
    {
      "cell_type": "code",
      "execution_count": 24,
      "metadata": {
        "id": "cZMVrzEZRAFn"
      },
      "outputs": [],
      "source": [
        "# import numpy as np\n",
        "# from sklearn.metrics import confusion_matrix\n",
        "# import seaborn as sns\n",
        "# import matplotlib.pyplot as plt\n",
        "\n",
        "# # Predict classes with the model\n",
        "# validation_generator2.reset()  # Reset the generator to ensure alignment\n",
        "# predictions = model2.predict(validation_generator2, steps=np.ceil(len(X_val)/32))\n",
        "# predicted_classes = (predictions > 0.5).astype(int)\n",
        "\n",
        "# # Retrieve true labels\n",
        "# true_classes = y_val\n"
      ]
    },
    {
      "cell_type": "code",
      "execution_count": 25,
      "metadata": {
        "id": "_DGFRgTdRktD"
      },
      "outputs": [],
      "source": [
        "# cm = confusion_matrix(true_classes, predicted_classes)\n",
        "\n",
        "# # Plot using seaborn\n",
        "# plt.figure(figsize=(5,5))\n",
        "# sns.heatmap(cm, annot=True, fmt=\"d\", linewidths=.5, square = True, cmap = 'Blues')\n",
        "# plt.ylabel('Actual label')\n",
        "# plt.xlabel('Predicted label')\n",
        "# plt.title('Confusion Matrix', size = 15)\n",
        "# plt.show()"
      ]
    },
    {
      "cell_type": "code",
      "execution_count": 26,
      "metadata": {
        "id": "yj5dGCvPRyFY"
      },
      "outputs": [],
      "source": [
        "# plt.figure(figsize=(8, 4))\n",
        "# plt.plot(history.history['loss'], label='Training Loss')\n",
        "# plt.plot(history.history['val_loss'], label='Validation Loss')\n",
        "# plt.title('Model Loss')\n",
        "# plt.ylabel('Loss')\n",
        "# plt.xlabel('Epoch')\n",
        "# plt.legend(loc='upper right')\n",
        "# plt.show()"
      ]
    },
    {
      "cell_type": "code",
      "execution_count": 27,
      "metadata": {
        "id": "I3JGqx8hg0qz"
      },
      "outputs": [],
      "source": [
        "# def extract_features(model, generator, steps):\n",
        "#     features = model.predict(generator, steps=steps)\n",
        "#     return features\n",
        "\n",
        "# train_features_DenseNet121 = extract_features(model2, train_generator2, steps=np.ceil(len(X_train)/20))\n",
        "# val_features_DenseNet121 = extract_features(model2, validation_generator2, steps=np.ceil(len(X_val)/32))\n",
        "\n",
        "# train_features_InceptionResNetV2 = extract_features(model, train_generator, steps=np.ceil(len(X_train)/20))\n",
        "# val_features_InceptionResNetV2 = extract_features(model, validation_generator, steps=np.ceil(len(X_val)/32))\n"
      ]
    },
    {
      "cell_type": "code",
      "execution_count": 28,
      "metadata": {
        "id": "1K8hic2Rg_xV"
      },
      "outputs": [],
      "source": [
        "# train_features_combined = np.concatenate([train_features_DenseNet121, train_features_InceptionResNetV2], axis=1)\n",
        "# val_features_combined = np.concatenate([val_features_DenseNet121, val_features_InceptionResNetV2], axis=1)"
      ]
    },
    {
      "cell_type": "code",
      "execution_count": 29,
      "metadata": {
        "id": "fOcr2boNg_lr"
      },
      "outputs": [],
      "source": [
        "# import lightgbm as lgb\n",
        "\n",
        "\n",
        "# d_train = lgb.Dataset(train_features_combined, label=y_train)\n",
        "# d_valid = lgb.Dataset(val_features_combined, label=y_val)\n",
        "\n",
        "\n",
        "# params = {\n",
        "#     'objective': 'binary',\n",
        "#     'metric': 'binary_logloss',\n",
        "#     'verbose': -1\n",
        "# }\n",
        "\n",
        "\n",
        "# model = lgb.train(\n",
        "#     params,\n",
        "#     d_train,\n",
        "#     valid_sets=[d_valid],\n",
        "#     num_boost_round=100\n",
        "# )\n"
      ]
    },
    {
      "cell_type": "code",
      "execution_count": 30,
      "metadata": {
        "id": "X5s_PsUehDWw"
      },
      "outputs": [],
      "source": [
        "# y_pred = model3.predict(val_features_combined, num_iteration=model.best_iteration)\n"
      ]
    },
    {
      "cell_type": "code",
      "execution_count": 31,
      "metadata": {
        "id": "6gXE0o-_hFod"
      },
      "outputs": [],
      "source": [
        "# from sklearn.metrics import accuracy_score, confusion_matrix\n",
        "\n",
        "# # Apply threshold to get binary output\n",
        "# y_pred_binary = (y_pred > 0.5).astype(int)\n",
        "\n",
        "# # Calculate accuracy\n",
        "# accuracy = accuracy_score(y_val, y_pred_binary)\n",
        "# print(f'Accuracy: {accuracy}')\n",
        "\n",
        "# # Confusion matrix\n",
        "# cm = confusion_matrix(y_val, y_pred_binary)\n",
        "# sns.heatmap(cm, annot=True, fmt='d', cmap='Blues')\n",
        "# plt.xlabel('Predicted')\n",
        "# plt.ylabel('True')\n",
        "# plt.show()\n"
      ]
    }
  ],
  "metadata": {
    "colab": {
      "provenance": []
    },
    "kernelspec": {
      "display_name": "Python 3",
      "name": "python3"
    },
    "language_info": {
      "codemirror_mode": {
        "name": "ipython",
        "version": 3
      },
      "file_extension": ".py",
      "mimetype": "text/x-python",
      "name": "python",
      "nbconvert_exporter": "python",
      "pygments_lexer": "ipython3",
      "version": "3.11.8"
    }
  },
  "nbformat": 4,
  "nbformat_minor": 0
}
